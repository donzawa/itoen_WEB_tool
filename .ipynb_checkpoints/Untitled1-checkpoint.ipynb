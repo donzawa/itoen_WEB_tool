{
 "cells": [
  {
   "cell_type": "code",
   "execution_count": 5,
   "metadata": {},
   "outputs": [
    {
     "ename": "NameError",
     "evalue": "name 'null' is not defined",
     "output_type": "error",
     "traceback": [
      "\u001b[0;31m---------------------------------------------------------------------------\u001b[0m",
      "\u001b[0;31mNameError\u001b[0m                                 Traceback (most recent call last)",
      "\u001b[0;32m<ipython-input-5-df6b68c88cd9>\u001b[0m in \u001b[0;36m<module>\u001b[0;34m\u001b[0m\n\u001b[1;32m      3\u001b[0m \u001b[0;32mimport\u001b[0m \u001b[0mrequests\u001b[0m\u001b[0;34m\u001b[0m\u001b[0;34m\u001b[0m\u001b[0m\n\u001b[1;32m      4\u001b[0m \u001b[0;32mfrom\u001b[0m \u001b[0mbs4\u001b[0m \u001b[0;32mimport\u001b[0m \u001b[0mBeautifulSoup\u001b[0m\u001b[0;34m\u001b[0m\u001b[0;34m\u001b[0m\u001b[0m\n\u001b[0;32m----> 5\u001b[0;31m \u001b[0;32mimport\u001b[0m \u001b[0mUntitled\u001b[0m\u001b[0;34m\u001b[0m\u001b[0;34m\u001b[0m\u001b[0m\n\u001b[0m",
      "\u001b[0;32m~/Documents/stremlit/Untitled.py\u001b[0m in \u001b[0;36m<module>\u001b[0;34m\u001b[0m\n\u001b[1;32m    269\u001b[0m   {\n\u001b[1;32m    270\u001b[0m    \u001b[0;34m\"cell_type\"\u001b[0m\u001b[0;34m:\u001b[0m \u001b[0;34m\"code\"\u001b[0m\u001b[0;34m,\u001b[0m\u001b[0;34m\u001b[0m\u001b[0;34m\u001b[0m\u001b[0m\n\u001b[0;32m--> 271\u001b[0;31m    \u001b[0;34m\"execution_count\"\u001b[0m\u001b[0;34m:\u001b[0m \u001b[0mnull\u001b[0m\u001b[0;34m,\u001b[0m\u001b[0;34m\u001b[0m\u001b[0;34m\u001b[0m\u001b[0m\n\u001b[0m\u001b[1;32m    272\u001b[0m    \u001b[0;34m\"metadata\"\u001b[0m\u001b[0;34m:\u001b[0m \u001b[0;34m{\u001b[0m\u001b[0;34m}\u001b[0m\u001b[0;34m,\u001b[0m\u001b[0;34m\u001b[0m\u001b[0;34m\u001b[0m\u001b[0m\n\u001b[1;32m    273\u001b[0m    \u001b[0;34m\"outputs\"\u001b[0m\u001b[0;34m:\u001b[0m \u001b[0;34m[\u001b[0m\u001b[0;34m]\u001b[0m\u001b[0;34m,\u001b[0m\u001b[0;34m\u001b[0m\u001b[0;34m\u001b[0m\u001b[0m\n",
      "\u001b[0;31mNameError\u001b[0m: name 'null' is not defined"
     ]
    }
   ],
   "source": [
    "import pandas as pd\n",
    "import numpy as np\n",
    "import requests\n",
    "from bs4 import BeautifulSoup\n",
    "import Untitled"
   ]
  },
  {
   "cell_type": "code",
   "execution_count": 2,
   "metadata": {},
   "outputs": [],
   "source": [
    "area1_hotels = ['熱海ニューフジヤホテル', '熱海 金城館', 'ホテル大野屋', 'アタミシーズンホテル']\n",
    "area2_hotels = ['伊東園ホテル箱根湯本', 'ホテル四季彩', '伊東園ホテル熱海館', 'ウオミサキホテル']\n",
    "area3_hotels = ['伊東園ホテル', '伊東園ホテル別館', '伊東園ホテル松川館', '熱川ハイツ', '伊東園ホテル熱川', '伊東園ホテル稲取']\n",
    "area4_hotels = ['下田伊東園ホテルはな岬', '下田海浜ホテル', '伊東園ホテル土肥', '西伊豆クリスタルビューホテル', '西伊豆松崎伊東園ホテル', '大仁ホテル', '伊豆長岡金城館']\n",
    "area5_hotels = ['伊香保グランドホテル', '金太夫', '伊香保温泉とどろき', '伊東園ホテル四万', '伊東園ホテル尾瀬老神山楽荘', 'ホテル湯の陣', '伊東園ホテル草津', 'ホテル湯元']\n",
    "area6_hotels = ['白樺湖ビューホテル', '伊東園ホテル浅間の湯', 'リバーサイド上田館', '小諸グランドキャッスルホテル', 'ホテル水明館', '上諏訪温泉 油屋旅館', '彦根ビューホテル']\n",
    "area7_hotels = ['湯の川観光ホテル祥苑', '南国ホテル', 'ホテル奥久慈館', '鬼怒川ロイヤルホテル', '伊東園ホテルニューさくら', '一柳閣本館']\n",
    "area8_hotels = ['伊東園ホテル塩原', 'ホテルニューもみぢ', 'ホテル湯西川', '東山パークホテル新風月', '伊東園ホテル飯坂 叶や', '鏡が池 碧山亭', '伊東園ホテル磐梯向滝']\n",
    "\n",
    "area5_url = ['339927', '347217', '379726', '304926', '324185', '315400', '304574', '312288']\n"
   ]
  },
  {
   "cell_type": "code",
   "execution_count": null,
   "metadata": {},
   "outputs": [],
   "source": []
  },
  {
   "cell_type": "code",
   "execution_count": null,
   "metadata": {},
   "outputs": [],
   "source": []
  },
  {
   "cell_type": "code",
   "execution_count": null,
   "metadata": {},
   "outputs": [],
   "source": []
  }
 ],
 "metadata": {
  "kernelspec": {
   "display_name": "Python 3",
   "language": "python",
   "name": "python3"
  },
  "language_info": {
   "codemirror_mode": {
    "name": "ipython",
    "version": 3
   },
   "file_extension": ".py",
   "mimetype": "text/x-python",
   "name": "python",
   "nbconvert_exporter": "python",
   "pygments_lexer": "ipython3",
   "version": "3.8.5"
  }
 },
 "nbformat": 4,
 "nbformat_minor": 4
}
